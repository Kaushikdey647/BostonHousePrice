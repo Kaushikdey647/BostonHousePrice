{
 "cells": [
  {
   "cell_type": "code",
   "execution_count": null,
   "id": "respected-translation",
   "metadata": {},
   "outputs": [],
   "source": [
    "import pandas as pd\n",
    "from keras.models import Sequential\n",
    "from keras.layers import Dense\n",
    "from keras.wrappers.scikit_learn import KerasRegressor\n",
    "from sklearn.model_selection import cross_val_score\n",
    "from sklearn.model_selection import KFold\n",
    "from sklearn.preprocessing import StandardScaler\n",
    "from sklearn.pipeline import Pipeline"
   ]
  },
  {
   "cell_type": "code",
   "execution_count": null,
   "id": "intended-confusion",
   "metadata": {},
   "outputs": [],
   "source": [
    "#import the house data\n",
    "data = pd.read_csv('houses.csv',delim_whitespace=True,header=None) #\n",
    "data"
   ]
  },
  {
   "cell_type": "code",
   "execution_count": null,
   "id": "protective-minister",
   "metadata": {},
   "outputs": [],
   "source": [
    "#converting dataframe to array\n",
    "x_data = data.values[:,0:13]\n",
    "y_data = data.values[:,13]"
   ]
  },
  {
   "cell_type": "code",
   "execution_count": null,
   "id": "angry-maple",
   "metadata": {},
   "outputs": [],
   "source": [
    "def myModel():\n",
    "    #define base model\n",
    "    model = Sequential(\n",
    "        [\n",
    "            Dense(13,input_dim=13,kernel_initializer='normal',activation='relu'),#input layer\n",
    "            Dense(20,input_dim=13,kernel_initializer='normal',),#just for fun\n",
    "            Dense(1,kernel_initializer='normal'),#output layer\n",
    "        ]\n",
    "    )\n",
    "    #compile it\n",
    "    model.compile(loss='mean_squared_error',optimizer='adam')#mse is used on regression models\n",
    "    return model"
   ]
  },
  {
   "cell_type": "code",
   "execution_count": null,
   "id": "color-morning",
   "metadata": {},
   "outputs": [],
   "source": [
    "#evaluate model on unseen data\n",
    "modelEstimatator = KerasRegressor(build_fn=myModel,epochs=100,batch_size=5,verbose=1)\n",
    "kf= KFold(n_splits=10)\n",
    "res = cross_val_score(modelEstimatator, x_data, y_data, cv=kf)\n",
    "print(\"Baseline: %.2f (%.2f) MSE\" % (res.mean(), res.std()))"
   ]
  }
 ],
 "metadata": {
  "kernelspec": {
   "display_name": "Python 3",
   "language": "python",
   "name": "python3"
  },
  "language_info": {
   "codemirror_mode": {
    "name": "ipython",
    "version": 3
   },
   "file_extension": ".py",
   "mimetype": "text/x-python",
   "name": "python",
   "nbconvert_exporter": "python",
   "pygments_lexer": "ipython3",
   "version": "3.8.8"
  }
 },
 "nbformat": 4,
 "nbformat_minor": 5
}
